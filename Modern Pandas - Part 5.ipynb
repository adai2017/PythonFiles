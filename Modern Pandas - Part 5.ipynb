{
 "cells": [
  {
   "cell_type": "code",
   "execution_count": 1,
   "metadata": {
    "collapsed": true
   },
   "outputs": [],
   "source": [
    "%matplotlib inline\n",
    "\n",
    "import os\n",
    "import numpy as np\n",
    "import pandas as pd\n",
    "import seaborn as sns\n",
    "import matplotlib.pyplot as plt\n",
    "\n",
    "if int(os.environ.get(\"MODERN_PANDAS_EPUB\", 0)):\n",
    "    import prep\n",
    "    \n",
    "pd.options.display.max_rows = 10\n",
    "sns.set(style='ticks', context='talk')"
   ]
  },
  {
   "cell_type": "code",
   "execution_count": 2,
   "metadata": {
    "collapsed": false,
    "scrolled": true
   },
   "outputs": [
    {
     "data": {
      "text/html": [
       "<div>\n",
       "<table border=\"1\" class=\"dataframe\">\n",
       "  <thead>\n",
       "    <tr style=\"text-align: right;\">\n",
       "      <th></th>\n",
       "      <th>Date</th>\n",
       "      <th>Start (ET)</th>\n",
       "      <th>Visitor/Neutral</th>\n",
       "      <th>PTS</th>\n",
       "      <th>Home/Neutral</th>\n",
       "      <th>PTS.1</th>\n",
       "      <th></th>\n",
       "      <th>.1</th>\n",
       "      <th>Notes</th>\n",
       "    </tr>\n",
       "  </thead>\n",
       "  <tbody>\n",
       "    <tr>\n",
       "      <th>0</th>\n",
       "      <td>Tue, Oct 27, 2015</td>\n",
       "      <td>8:00 pm</td>\n",
       "      <td>Detroit Pistons</td>\n",
       "      <td>106</td>\n",
       "      <td>Atlanta Hawks</td>\n",
       "      <td>94</td>\n",
       "      <td>Box Score</td>\n",
       "      <td>NaN</td>\n",
       "      <td>NaN</td>\n",
       "    </tr>\n",
       "    <tr>\n",
       "      <th>1</th>\n",
       "      <td>Tue, Oct 27, 2015</td>\n",
       "      <td>8:00 pm</td>\n",
       "      <td>Cleveland Cavaliers</td>\n",
       "      <td>95</td>\n",
       "      <td>Chicago Bulls</td>\n",
       "      <td>97</td>\n",
       "      <td>Box Score</td>\n",
       "      <td>NaN</td>\n",
       "      <td>NaN</td>\n",
       "    </tr>\n",
       "    <tr>\n",
       "      <th>2</th>\n",
       "      <td>Tue, Oct 27, 2015</td>\n",
       "      <td>10:30 pm</td>\n",
       "      <td>New Orleans Pelicans</td>\n",
       "      <td>95</td>\n",
       "      <td>Golden State Warriors</td>\n",
       "      <td>111</td>\n",
       "      <td>Box Score</td>\n",
       "      <td>NaN</td>\n",
       "      <td>NaN</td>\n",
       "    </tr>\n",
       "    <tr>\n",
       "      <th>3</th>\n",
       "      <td>Wed, Oct 28, 2015</td>\n",
       "      <td>7:30 pm</td>\n",
       "      <td>Philadelphia 76ers</td>\n",
       "      <td>95</td>\n",
       "      <td>Boston Celtics</td>\n",
       "      <td>112</td>\n",
       "      <td>Box Score</td>\n",
       "      <td>NaN</td>\n",
       "      <td>NaN</td>\n",
       "    </tr>\n",
       "    <tr>\n",
       "      <th>4</th>\n",
       "      <td>Wed, Oct 28, 2015</td>\n",
       "      <td>7:30 pm</td>\n",
       "      <td>Chicago Bulls</td>\n",
       "      <td>115</td>\n",
       "      <td>Brooklyn Nets</td>\n",
       "      <td>100</td>\n",
       "      <td>Box Score</td>\n",
       "      <td>NaN</td>\n",
       "      <td>NaN</td>\n",
       "    </tr>\n",
       "  </tbody>\n",
       "</table>\n",
       "</div>"
      ],
      "text/plain": [
       "                Date Start (ET)       Visitor/Neutral  PTS  \\\n",
       "0  Tue, Oct 27, 2015    8:00 pm       Detroit Pistons  106   \n",
       "1  Tue, Oct 27, 2015    8:00 pm   Cleveland Cavaliers   95   \n",
       "2  Tue, Oct 27, 2015   10:30 pm  New Orleans Pelicans   95   \n",
       "3  Wed, Oct 28, 2015    7:30 pm    Philadelphia 76ers   95   \n",
       "4  Wed, Oct 28, 2015    7:30 pm         Chicago Bulls  115   \n",
       "\n",
       "            Home/Neutral  PTS.1              .1  Notes  \n",
       "0          Atlanta Hawks     94  Box Score  NaN    NaN  \n",
       "1          Chicago Bulls     97  Box Score  NaN    NaN  \n",
       "2  Golden State Warriors    111  Box Score  NaN    NaN  \n",
       "3         Boston Celtics    112  Box Score  NaN    NaN  \n",
       "4          Brooklyn Nets    100  Box Score  NaN    NaN  "
      ]
     },
     "execution_count": 2,
     "metadata": {},
     "output_type": "execute_result"
    }
   ],
   "source": [
    "fp = 'data/nba.csv'\n",
    "\n",
    "if not os.path.exists(fp):\n",
    "    tables = pd.read_html(\"http://www.basketball-reference.com/leagues/NBA_2016_games.html\")\n",
    "    games = tables[0]\n",
    "    games.to_csv(fp)\n",
    "else:\n",
    "    games = pd.read_csv(fp, index_col=0)\n",
    "games.head()"
   ]
  },
  {
   "cell_type": "code",
   "execution_count": 3,
   "metadata": {
    "collapsed": false,
    "scrolled": false
   },
   "outputs": [
    {
     "data": {
      "text/html": [
       "<div>\n",
       "<table border=\"1\" class=\"dataframe\">\n",
       "  <thead>\n",
       "    <tr style=\"text-align: right;\">\n",
       "      <th></th>\n",
       "      <th></th>\n",
       "      <th>away_team</th>\n",
       "      <th>away_points</th>\n",
       "      <th>home_team</th>\n",
       "      <th>home_points</th>\n",
       "    </tr>\n",
       "    <tr>\n",
       "      <th>game_id</th>\n",
       "      <th>date</th>\n",
       "      <th></th>\n",
       "      <th></th>\n",
       "      <th></th>\n",
       "      <th></th>\n",
       "    </tr>\n",
       "  </thead>\n",
       "  <tbody>\n",
       "    <tr>\n",
       "      <th>0</th>\n",
       "      <th>2015-10-27</th>\n",
       "      <td>Detroit Pistons</td>\n",
       "      <td>106</td>\n",
       "      <td>Atlanta Hawks</td>\n",
       "      <td>94</td>\n",
       "    </tr>\n",
       "    <tr>\n",
       "      <th>1</th>\n",
       "      <th>2015-10-27</th>\n",
       "      <td>Cleveland Cavaliers</td>\n",
       "      <td>95</td>\n",
       "      <td>Chicago Bulls</td>\n",
       "      <td>97</td>\n",
       "    </tr>\n",
       "    <tr>\n",
       "      <th>2</th>\n",
       "      <th>2015-10-27</th>\n",
       "      <td>New Orleans Pelicans</td>\n",
       "      <td>95</td>\n",
       "      <td>Golden State Warriors</td>\n",
       "      <td>111</td>\n",
       "    </tr>\n",
       "    <tr>\n",
       "      <th>3</th>\n",
       "      <th>2015-10-28</th>\n",
       "      <td>Philadelphia 76ers</td>\n",
       "      <td>95</td>\n",
       "      <td>Boston Celtics</td>\n",
       "      <td>112</td>\n",
       "    </tr>\n",
       "    <tr>\n",
       "      <th>4</th>\n",
       "      <th>2015-10-28</th>\n",
       "      <td>Chicago Bulls</td>\n",
       "      <td>115</td>\n",
       "      <td>Brooklyn Nets</td>\n",
       "      <td>100</td>\n",
       "    </tr>\n",
       "  </tbody>\n",
       "</table>\n",
       "</div>"
      ],
      "text/plain": [
       "                               away_team  away_points              home_team  \\\n",
       "game_id date                                                                   \n",
       "0       2015-10-27       Detroit Pistons          106          Atlanta Hawks   \n",
       "1       2015-10-27   Cleveland Cavaliers           95          Chicago Bulls   \n",
       "2       2015-10-27  New Orleans Pelicans           95  Golden State Warriors   \n",
       "3       2015-10-28    Philadelphia 76ers           95         Boston Celtics   \n",
       "4       2015-10-28         Chicago Bulls          115          Brooklyn Nets   \n",
       "\n",
       "                    home_points  \n",
       "game_id date                     \n",
       "0       2015-10-27           94  \n",
       "1       2015-10-27           97  \n",
       "2       2015-10-27          111  \n",
       "3       2015-10-28          112  \n",
       "4       2015-10-28          100  "
      ]
     },
     "execution_count": 3,
     "metadata": {},
     "output_type": "execute_result"
    }
   ],
   "source": [
    "column_names = {'Date': 'date', 'Start (ET)': 'start',\n",
    "                'Unamed: 2': 'box', 'Visitor/Neutral': 'away_team', \n",
    "                'PTS': 'away_points', 'Home/Neutral': 'home_team',\n",
    "                'PTS.1': 'home_points', 'Unamed: 7': 'n_ot'}\n",
    "\n",
    "games = (games.rename(columns=column_names)\n",
    "    .dropna(thresh=4)\n",
    "    [['date', 'away_team', 'away_points', 'home_team', 'home_points']]\n",
    "    .assign(date=lambda x: pd.to_datetime(x['date'], format='%a, %b %d, %Y'))\n",
    "    .set_index('date', append=True)\n",
    "    .rename_axis([\"game_id\", \"date\"])\n",
    "    .sort_index())\n",
    "games.head()"
   ]
  },
  {
   "cell_type": "code",
   "execution_count": 4,
   "metadata": {
    "collapsed": false
   },
   "outputs": [
    {
     "data": {
      "text/html": [
       "<div>\n",
       "<table border=\"1\" class=\"dataframe\">\n",
       "  <thead>\n",
       "    <tr style=\"text-align: right;\">\n",
       "      <th></th>\n",
       "      <th>game_id</th>\n",
       "      <th>date</th>\n",
       "      <th>variable</th>\n",
       "      <th>team</th>\n",
       "    </tr>\n",
       "  </thead>\n",
       "  <tbody>\n",
       "    <tr>\n",
       "      <th>0</th>\n",
       "      <td>0</td>\n",
       "      <td>2015-10-27</td>\n",
       "      <td>away_team</td>\n",
       "      <td>Detroit Pistons</td>\n",
       "    </tr>\n",
       "    <tr>\n",
       "      <th>1</th>\n",
       "      <td>1</td>\n",
       "      <td>2015-10-27</td>\n",
       "      <td>away_team</td>\n",
       "      <td>Cleveland Cavaliers</td>\n",
       "    </tr>\n",
       "    <tr>\n",
       "      <th>2</th>\n",
       "      <td>2</td>\n",
       "      <td>2015-10-27</td>\n",
       "      <td>away_team</td>\n",
       "      <td>New Orleans Pelicans</td>\n",
       "    </tr>\n",
       "    <tr>\n",
       "      <th>3</th>\n",
       "      <td>3</td>\n",
       "      <td>2015-10-28</td>\n",
       "      <td>away_team</td>\n",
       "      <td>Philadelphia 76ers</td>\n",
       "    </tr>\n",
       "    <tr>\n",
       "      <th>4</th>\n",
       "      <td>4</td>\n",
       "      <td>2015-10-28</td>\n",
       "      <td>away_team</td>\n",
       "      <td>Chicago Bulls</td>\n",
       "    </tr>\n",
       "  </tbody>\n",
       "</table>\n",
       "</div>"
      ],
      "text/plain": [
       "   game_id       date   variable                  team\n",
       "0        0 2015-10-27  away_team       Detroit Pistons\n",
       "1        1 2015-10-27  away_team   Cleveland Cavaliers\n",
       "2        2 2015-10-27  away_team  New Orleans Pelicans\n",
       "3        3 2015-10-28  away_team    Philadelphia 76ers\n",
       "4        4 2015-10-28  away_team         Chicago Bulls"
      ]
     },
     "execution_count": 4,
     "metadata": {},
     "output_type": "execute_result"
    }
   ],
   "source": [
    "tidy = pd.melt(games.reset_index(),\n",
    "              id_vars=['game_id', 'date'], value_vars=['away_team', 'home_team'],\n",
    "              value_name='team')\n",
    "tidy.head()"
   ]
  },
  {
   "cell_type": "code",
   "execution_count": 5,
   "metadata": {
    "collapsed": false
   },
   "outputs": [
    {
     "data": {
      "text/plain": [
       "0     NaN\n",
       "1     NaN\n",
       "2     NaN\n",
       "3     NaN\n",
       "4     NaN\n",
       "     ... \n",
       "71    1.0\n",
       "72    2.0\n",
       "73    2.0\n",
       "74    2.0\n",
       "75    0.0\n",
       "Name: date, dtype: float64"
      ]
     },
     "execution_count": 5,
     "metadata": {},
     "output_type": "execute_result"
    }
   ],
   "source": [
    "# For each team, get number of days between games\n",
    "tidy.groupby('team')['date'].diff().dt.days - 1"
   ]
  },
  {
   "cell_type": "code",
   "execution_count": 6,
   "metadata": {
    "collapsed": false
   },
   "outputs": [
    {
     "data": {
      "text/html": [
       "<div>\n",
       "<table border=\"1\" class=\"dataframe\">\n",
       "  <thead>\n",
       "    <tr style=\"text-align: right;\">\n",
       "      <th></th>\n",
       "      <th>game_id</th>\n",
       "      <th>date</th>\n",
       "      <th>variable</th>\n",
       "      <th>team</th>\n",
       "      <th>rest</th>\n",
       "    </tr>\n",
       "  </thead>\n",
       "  <tbody>\n",
       "    <tr>\n",
       "      <th>4</th>\n",
       "      <td>4</td>\n",
       "      <td>2015-10-28</td>\n",
       "      <td>away_team</td>\n",
       "      <td>Chicago Bulls</td>\n",
       "      <td>0.0</td>\n",
       "    </tr>\n",
       "    <tr>\n",
       "      <th>8</th>\n",
       "      <td>8</td>\n",
       "      <td>2015-10-28</td>\n",
       "      <td>away_team</td>\n",
       "      <td>Cleveland Cavaliers</td>\n",
       "      <td>0.0</td>\n",
       "    </tr>\n",
       "    <tr>\n",
       "      <th>14</th>\n",
       "      <td>14</td>\n",
       "      <td>2015-10-28</td>\n",
       "      <td>away_team</td>\n",
       "      <td>New Orleans Pelicans</td>\n",
       "      <td>0.0</td>\n",
       "    </tr>\n",
       "    <tr>\n",
       "      <th>17</th>\n",
       "      <td>17</td>\n",
       "      <td>2015-10-29</td>\n",
       "      <td>away_team</td>\n",
       "      <td>Memphis Grizzlies</td>\n",
       "      <td>0.0</td>\n",
       "    </tr>\n",
       "    <tr>\n",
       "      <th>18</th>\n",
       "      <td>18</td>\n",
       "      <td>2015-10-29</td>\n",
       "      <td>away_team</td>\n",
       "      <td>Dallas Mavericks</td>\n",
       "      <td>0.0</td>\n",
       "    </tr>\n",
       "  </tbody>\n",
       "</table>\n",
       "</div>"
      ],
      "text/plain": [
       "    game_id       date   variable                  team  rest\n",
       "4         4 2015-10-28  away_team         Chicago Bulls   0.0\n",
       "8         8 2015-10-28  away_team   Cleveland Cavaliers   0.0\n",
       "14       14 2015-10-28  away_team  New Orleans Pelicans   0.0\n",
       "17       17 2015-10-29  away_team     Memphis Grizzlies   0.0\n",
       "18       18 2015-10-29  away_team      Dallas Mavericks   0.0"
      ]
     },
     "execution_count": 6,
     "metadata": {},
     "output_type": "execute_result"
    }
   ],
   "source": [
    "tidy['rest'] = tidy.sort_values('date').groupby('team').date.diff().dt.days - 1\n",
    "tidy.dropna().head()"
   ]
  },
  {
   "cell_type": "code",
   "execution_count": 7,
   "metadata": {
    "collapsed": false
   },
   "outputs": [
    {
     "data": {
      "text/html": [
       "<div>\n",
       "<table border=\"1\" class=\"dataframe\">\n",
       "  <thead>\n",
       "    <tr style=\"text-align: right;\">\n",
       "      <th></th>\n",
       "      <th></th>\n",
       "      <th>away_team</th>\n",
       "      <th>away_points</th>\n",
       "      <th>home_team</th>\n",
       "      <th>home_points</th>\n",
       "      <th>away_rest</th>\n",
       "      <th>home_rest</th>\n",
       "    </tr>\n",
       "    <tr>\n",
       "      <th>game_id</th>\n",
       "      <th>date</th>\n",
       "      <th></th>\n",
       "      <th></th>\n",
       "      <th></th>\n",
       "      <th></th>\n",
       "      <th></th>\n",
       "      <th></th>\n",
       "    </tr>\n",
       "  </thead>\n",
       "  <tbody>\n",
       "    <tr>\n",
       "      <th>17</th>\n",
       "      <th>2015-10-29</th>\n",
       "      <td>Memphis Grizzlies</td>\n",
       "      <td>112</td>\n",
       "      <td>Indiana Pacers</td>\n",
       "      <td>103</td>\n",
       "      <td>0.0</td>\n",
       "      <td>0.0</td>\n",
       "    </tr>\n",
       "    <tr>\n",
       "      <th>18</th>\n",
       "      <th>2015-10-29</th>\n",
       "      <td>Dallas Mavericks</td>\n",
       "      <td>88</td>\n",
       "      <td>Los Angeles Clippers</td>\n",
       "      <td>104</td>\n",
       "      <td>0.0</td>\n",
       "      <td>0.0</td>\n",
       "    </tr>\n",
       "    <tr>\n",
       "      <th>19</th>\n",
       "      <th>2015-10-29</th>\n",
       "      <td>Atlanta Hawks</td>\n",
       "      <td>112</td>\n",
       "      <td>New York Knicks</td>\n",
       "      <td>101</td>\n",
       "      <td>1.0</td>\n",
       "      <td>0.0</td>\n",
       "    </tr>\n",
       "    <tr>\n",
       "      <th>20</th>\n",
       "      <th>2015-10-30</th>\n",
       "      <td>Charlotte Hornets</td>\n",
       "      <td>94</td>\n",
       "      <td>Atlanta Hawks</td>\n",
       "      <td>97</td>\n",
       "      <td>1.0</td>\n",
       "      <td>0.0</td>\n",
       "    </tr>\n",
       "    <tr>\n",
       "      <th>21</th>\n",
       "      <th>2015-10-30</th>\n",
       "      <td>Toronto Raptors</td>\n",
       "      <td>113</td>\n",
       "      <td>Boston Celtics</td>\n",
       "      <td>103</td>\n",
       "      <td>1.0</td>\n",
       "      <td>1.0</td>\n",
       "    </tr>\n",
       "  </tbody>\n",
       "</table>\n",
       "</div>"
      ],
      "text/plain": [
       "                            away_team  away_points             home_team  \\\n",
       "game_id date                                                               \n",
       "17      2015-10-29  Memphis Grizzlies          112        Indiana Pacers   \n",
       "18      2015-10-29   Dallas Mavericks           88  Los Angeles Clippers   \n",
       "19      2015-10-29      Atlanta Hawks          112       New York Knicks   \n",
       "20      2015-10-30  Charlotte Hornets           94         Atlanta Hawks   \n",
       "21      2015-10-30    Toronto Raptors          113        Boston Celtics   \n",
       "\n",
       "                    home_points  away_rest  home_rest  \n",
       "game_id date                                           \n",
       "17      2015-10-29          103        0.0        0.0  \n",
       "18      2015-10-29          104        0.0        0.0  \n",
       "19      2015-10-29          101        1.0        0.0  \n",
       "20      2015-10-30           97        1.0        0.0  \n",
       "21      2015-10-30          103        1.0        1.0  "
      ]
     },
     "execution_count": 7,
     "metadata": {},
     "output_type": "execute_result"
    }
   ],
   "source": [
    "by_game = (pd.pivot_table(tidy, values='rest',\n",
    "                         index=['game_id', 'date'],\n",
    "                         columns='variable')\n",
    "          .rename(columns={'away_team': 'away_rest',\n",
    "                          'home_team': 'home_rest'}))\n",
    "df = pd.concat([games, by_game], axis=1)\n",
    "df.dropna().head()"
   ]
  },
  {
   "cell_type": "code",
   "execution_count": 8,
   "metadata": {
    "collapsed": false
   },
   "outputs": [],
   "source": [
    "sns.set(style='ticks', context='paper')"
   ]
  },
  {
   "cell_type": "code",
   "execution_count": 9,
   "metadata": {
    "collapsed": false
   },
   "outputs": [
    {
     "data": {
      "image/png": "[encoded data removed]",
      "text/plain": [
       "<matplotlib.figure.Figure at 0xbe16d68>"
      ]
     },
     "metadata": {},
     "output_type": "display_data"
    }
   ],
   "source": [
    "g = sns.FacetGrid(tidy, col='team', col_wrap=6, hue='team', size=2)\n",
    "g.map(sns.barplot, 'variable', 'rest');"
   ]
  },
  {
   "cell_type": "code",
   "execution_count": 10,
   "metadata": {
    "collapsed": false
   },
   "outputs": [
    {
     "data": {
      "text/html": [
       "<div>\n",
       "<table border=\"1\" class=\"dataframe\">\n",
       "  <thead>\n",
       "    <tr style=\"text-align: right;\">\n",
       "      <th></th>\n",
       "      <th></th>\n",
       "      <th>away_team</th>\n",
       "      <th>away_points</th>\n",
       "      <th>home_team</th>\n",
       "      <th>home_points</th>\n",
       "      <th>away_rest</th>\n",
       "      <th>home_rest</th>\n",
       "      <th>home_win</th>\n",
       "      <th>rest_spread</th>\n",
       "    </tr>\n",
       "    <tr>\n",
       "      <th>game_id</th>\n",
       "      <th>date</th>\n",
       "      <th></th>\n",
       "      <th></th>\n",
       "      <th></th>\n",
       "      <th></th>\n",
       "      <th></th>\n",
       "      <th></th>\n",
       "      <th></th>\n",
       "      <th></th>\n",
       "    </tr>\n",
       "  </thead>\n",
       "  <tbody>\n",
       "    <tr>\n",
       "      <th>17</th>\n",
       "      <th>2015-10-29</th>\n",
       "      <td>Memphis Grizzlies</td>\n",
       "      <td>112</td>\n",
       "      <td>Indiana Pacers</td>\n",
       "      <td>103</td>\n",
       "      <td>0.0</td>\n",
       "      <td>0.0</td>\n",
       "      <td>False</td>\n",
       "      <td>0.0</td>\n",
       "    </tr>\n",
       "    <tr>\n",
       "      <th>18</th>\n",
       "      <th>2015-10-29</th>\n",
       "      <td>Dallas Mavericks</td>\n",
       "      <td>88</td>\n",
       "      <td>Los Angeles Clippers</td>\n",
       "      <td>104</td>\n",
       "      <td>0.0</td>\n",
       "      <td>0.0</td>\n",
       "      <td>True</td>\n",
       "      <td>0.0</td>\n",
       "    </tr>\n",
       "    <tr>\n",
       "      <th>19</th>\n",
       "      <th>2015-10-29</th>\n",
       "      <td>Atlanta Hawks</td>\n",
       "      <td>112</td>\n",
       "      <td>New York Knicks</td>\n",
       "      <td>101</td>\n",
       "      <td>1.0</td>\n",
       "      <td>0.0</td>\n",
       "      <td>False</td>\n",
       "      <td>-1.0</td>\n",
       "    </tr>\n",
       "    <tr>\n",
       "      <th>20</th>\n",
       "      <th>2015-10-30</th>\n",
       "      <td>Charlotte Hornets</td>\n",
       "      <td>94</td>\n",
       "      <td>Atlanta Hawks</td>\n",
       "      <td>97</td>\n",
       "      <td>1.0</td>\n",
       "      <td>0.0</td>\n",
       "      <td>True</td>\n",
       "      <td>-1.0</td>\n",
       "    </tr>\n",
       "    <tr>\n",
       "      <th>21</th>\n",
       "      <th>2015-10-30</th>\n",
       "      <td>Toronto Raptors</td>\n",
       "      <td>113</td>\n",
       "      <td>Boston Celtics</td>\n",
       "      <td>103</td>\n",
       "      <td>1.0</td>\n",
       "      <td>1.0</td>\n",
       "      <td>False</td>\n",
       "      <td>0.0</td>\n",
       "    </tr>\n",
       "  </tbody>\n",
       "</table>\n",
       "</div>"
      ],
      "text/plain": [
       "                            away_team  away_points             home_team  \\\n",
       "game_id date                                                               \n",
       "17      2015-10-29  Memphis Grizzlies          112        Indiana Pacers   \n",
       "18      2015-10-29   Dallas Mavericks           88  Los Angeles Clippers   \n",
       "19      2015-10-29      Atlanta Hawks          112       New York Knicks   \n",
       "20      2015-10-30  Charlotte Hornets           94         Atlanta Hawks   \n",
       "21      2015-10-30    Toronto Raptors          113        Boston Celtics   \n",
       "\n",
       "                    home_points  away_rest  home_rest home_win  rest_spread  \n",
       "game_id date                                                                 \n",
       "17      2015-10-29          103        0.0        0.0    False          0.0  \n",
       "18      2015-10-29          104        0.0        0.0     True          0.0  \n",
       "19      2015-10-29          101        1.0        0.0    False         -1.0  \n",
       "20      2015-10-30           97        1.0        0.0     True         -1.0  \n",
       "21      2015-10-30          103        1.0        1.0    False          0.0  "
      ]
     },
     "execution_count": 10,
     "metadata": {},
     "output_type": "execute_result"
    }
   ],
   "source": [
    "df['home_win'] = df['home_points'] > df['away_points']\n",
    "df['rest_spread'] = df['home_rest'] - df['away_rest']\n",
    "df.dropna().head()"
   ]
  },
  {
   "cell_type": "code",
   "execution_count": 13,
   "metadata": {
    "collapsed": false
   },
   "outputs": [
    {
     "data": {
      "text/plain": [
       "[<matplotlib.text.Text at 0xd48bcc0>, <matplotlib.text.Text at 0xd480ac8>]"
      ]
     },
     "execution_count": 13,
     "metadata": {},
     "output_type": "execute_result"
    },
    {
     "data": {
      "image/png": "[encoded data removed]",
      "text/plain": [
       "<matplotlib.figure.Figure at 0xd47be48>"
      ]
     },
     "metadata": {},
     "output_type": "display_data"
    }
   ],
   "source": [
    "delta = (by_game.home_rest - by_game.away_rest).dropna().astype(int)\n",
    "ax = (delta.value_counts()\n",
    "     .reindex(np.arange(delta.min(), delta.max() + 1), fill_value = 0)\n",
    "     .sort_index()\n",
    "     .plot(kind='bar', color='k', width=.9, rot=0, figsize=(12, 6)))\n",
    "sns.despine()\n",
    "ax.set(xlabel='Difference in Rest (Home - Away)', ylabel='Games')"
   ]
  },
  {
   "cell_type": "code",
   "execution_count": null,
   "metadata": {
    "collapsed": true
   },
   "outputs": [],
   "source": []
  }
 ],
 "metadata": {
  "kernelspec": {
   "display_name": "Python 3",
   "language": "python",
   "name": "python3"
  },
  "language_info": {
   "codemirror_mode": {
    "name": "ipython",
    "version": 3
   },
   "file_extension": ".py",
   "mimetype": "text/x-python",
   "name": "python",
   "nbconvert_exporter": "python",
   "pygments_lexer": "ipython3",
   "version": "3.6.0"
  }
 },
 "nbformat": 4,
 "nbformat_minor": 2
}
